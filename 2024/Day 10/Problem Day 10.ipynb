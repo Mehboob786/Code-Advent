{
 "cells": [
  {
   "cell_type": "markdown",
   "metadata": {},
   "source": [
    "Part 1"
   ]
  },
  {
   "cell_type": "code",
   "execution_count": 1,
   "metadata": {},
   "outputs": [
    {
     "name": "stdout",
     "output_type": "stream",
     "text": [
      "Trailhead Scores: [2, 2, 2, 1, 1, 3, 4, 2, 2, 3, 1, 4, 4, 2, 2, 1, 3, 4, 2, 4, 2, 1, 1, 3, 2, 3, 2, 3, 1, 1, 4, 3, 1, 3, 3, 2, 3, 1, 1, 3, 2, 5, 1, 3, 2, 2, 1, 3, 3, 5, 5, 2, 1, 1, 3, 4, 2, 3, 3, 3, 1, 1, 1, 2, 3, 2, 2, 3, 2, 1, 3, 2, 3, 2, 1, 4, 2, 3, 1, 1, 3, 1, 3, 1, 2, 4, 2, 2, 1, 1, 2, 1, 1, 1, 1, 1, 1, 1, 2, 2, 1, 3, 3, 2, 1, 1, 1, 1, 1, 2, 2, 3, 4, 2, 1, 1, 3, 6, 2, 3, 3, 2, 1, 5, 4, 2, 2, 4, 3, 3, 2, 5, 2, 4, 1, 2, 3, 4, 3, 3, 2, 4, 2, 2, 3, 3, 4, 3, 1, 7, 4, 4, 3, 1, 7, 2, 4, 3, 2, 3, 2, 2, 1, 1, 4, 5, 7, 4, 1, 1, 5, 3, 1, 2, 2, 3, 7, 2, 2, 2, 5, 2, 3, 2, 2, 3, 2, 5, 3, 2, 4, 2, 3, 1, 1, 2, 1, 2, 2, 2, 2, 2, 5, 2, 4, 4, 1, 1, 3, 2, 1, 4, 2, 3, 2, 1, 2, 3, 2, 3, 4, 4, 6, 6, 2, 2, 2, 2, 1, 6, 4, 4, 4, 6, 1, 1, 3, 3, 2, 5, 1, 2, 2, 2, 2, 5, 4, 2, 2, 3, 3, 2, 7, 3, 3, 1, 3, 3, 3, 6, 2, 2, 1, 2, 2, 1, 3, 1, 2, 4, 1, 3, 1, 3, 4, 1, 1, 2, 3, 1, 1, 3, 3, 2, 1, 1]\n",
      "Sum of trailhead scores: 717\n"
     ]
    }
   ],
   "source": [
    "from typing import List, Tuple, Set\n",
    "\n",
    "def read_input(filename: str) -> List[List[int]]:\n",
    "    \"\"\"Read the input file and convert it to a 2D list of integers.\"\"\"\n",
    "    with open(filename, 'r') as file:\n",
    "        return [list(map(int, line.strip())) for line in file]\n",
    "\n",
    "def find_trail_to_nine(grid: List[List[int]], start: Tuple[int, int]) -> List[Tuple[int, int]]:\n",
    "    \"\"\"\n",
    "    Find all 9-height positions reachable from a trailhead via a valid hiking trail.\n",
    "    \"\"\"\n",
    "    rows, cols = len(grid), len(grid[0])\n",
    "    nine_positions = []\n",
    "\n",
    "    def dfs(x: int, y: int, current_height: int, path: Set[Tuple[int, int]]) -> None:\n",
    "        # If we've reached height 9, this is a valid trail\n",
    "        if grid[x][y] == 9:\n",
    "            nine_positions.append((x, y))\n",
    "            return\n",
    "\n",
    "        # Possible moves: up, down, left, right\n",
    "        for dx, dy in [(0,1), (0,-1), (1,0), (-1,0)]:\n",
    "            nx, ny = x + dx, y + dy\n",
    "\n",
    "            # Check if new cell is within grid and a valid next step\n",
    "            if (0 <= nx < rows and 0 <= ny < cols and\n",
    "                (nx, ny) not in path and\n",
    "                grid[nx][ny] == current_height + 1):\n",
    "                # Create a new path including this step\n",
    "                new_path = path.copy()\n",
    "                new_path.add((nx, ny))\n",
    "                # Continue the trail\n",
    "                dfs(nx, ny, grid[nx][ny], new_path)\n",
    "\n",
    "    # Start the search from the trailhead\n",
    "    dfs(start[0], start[1], grid[start[0]][start[1]], {start})\n",
    "\n",
    "    return nine_positions\n",
    "\n",
    "def solve_trailheads(grid: List[List[int]]) -> int:\n",
    "    \"\"\"\n",
    "    Find all trailheads and calculate their scores.\n",
    "    \"\"\"\n",
    "    rows, cols = len(grid), len(grid[0])\n",
    "    trailhead_scores = []\n",
    "\n",
    "    # Find all trailheads (positions with height 0)\n",
    "    trailheads = [(r, c) for r in range(rows) for c in range(cols) if grid[r][c] == 0]\n",
    "\n",
    "    # Calculate score for each trailhead\n",
    "    for trailhead in trailheads:\n",
    "        # Find unique 9-height positions reachable from this trailhead\n",
    "        reachable_nines = set(find_trail_to_nine(grid, trailhead))\n",
    "        trailhead_scores.append(len(reachable_nines))\n",
    "\n",
    "    # Verbose output for debugging\n",
    "    print(\"Trailhead Scores:\", trailhead_scores)\n",
    "\n",
    "    return sum(trailhead_scores)\n",
    "\n",
    "\n",
    "    # Read input from file\n",
    "grid = read_input('input.txt')\n",
    "\n",
    "    # Solve and print the total trailhead score\n",
    "total_score = solve_trailheads(grid)\n",
    "print(f\"Sum of trailhead scores: {total_score}\")\n",
    "\n"
   ]
  },
  {
   "cell_type": "markdown",
   "metadata": {},
   "source": [
    "Part 2\n"
   ]
  },
  {
   "cell_type": "code",
   "execution_count": 2,
   "metadata": {},
   "outputs": [
    {
     "name": "stdout",
     "output_type": "stream",
     "text": [
      "Total sum of trailhead ratings: 1686\n"
     ]
    }
   ],
   "source": [
    "def parse_map(file_path):\n",
    "    \"\"\"\n",
    "    Reads the topographic map from the input file and converts it into a 2D list of integers.\n",
    "    \"\"\"\n",
    "    with open(file_path, 'r') as file:\n",
    "        return [list(map(int, line.strip())) for line in file]\n",
    "\n",
    "def dfs_count_trails(topographic_map, r, c, visited):\n",
    "    \"\"\"\n",
    "    Depth-first search to count distinct hiking trails that begin at (r, c) and end at 9.\n",
    "    \"\"\"\n",
    "    rows, cols = len(topographic_map), len(topographic_map[0])\n",
    "    directions = [(-1, 0), (1, 0), (0, -1), (0, 1)]\n",
    "    stack = [(r, c, [(r, c)])]  # stack holds (row, col, current_path)\n",
    "    trails = set()  # To track distinct paths ending at 9\n",
    "\n",
    "    while stack:\n",
    "        cr, cc, path = stack.pop()\n",
    "        current_height = topographic_map[cr][cc]\n",
    "\n",
    "        # If we reach a height of 9, add the trail\n",
    "        if current_height == 9:\n",
    "            trails.add(tuple(path))\n",
    "            continue\n",
    "\n",
    "        # Explore neighbors\n",
    "        for dr, dc in directions:\n",
    "            nr, nc = cr + dr, cc + dc\n",
    "            if 0 <= nr < rows and 0 <= nc < cols:\n",
    "                next_height = topographic_map[nr][nc]\n",
    "                if next_height == current_height + 1 and (nr, nc) not in path:\n",
    "                    stack.append((nr, nc, path + [(nr, nc)]))\n",
    "\n",
    "    return len(trails)\n",
    "\n",
    "def calculate_trailhead_ratings(topographic_map):\n",
    "    \"\"\"\n",
    "    Calculates the sum of ratings for all trailheads in the topographic map.\n",
    "    \"\"\"\n",
    "    rows, cols = len(topographic_map), len(topographic_map[0])\n",
    "    total_rating = 0\n",
    "\n",
    "    for r in range(rows):\n",
    "        for c in range(cols):\n",
    "            if topographic_map[r][c] == 0:  # Found a trailhead\n",
    "                visited = set()\n",
    "                rating = dfs_count_trails(topographic_map, r, c, visited)\n",
    "                total_rating += rating\n",
    "\n",
    "    return total_rating\n",
    "\n",
    "\n",
    "    \"\"\"\n",
    "    Main function to load the map, compute ratings, and display the result.\n",
    "    \"\"\"\n",
    "file_path = \"input.txt\"  # Ensure input.txt is in the same directory\n",
    "topographic_map = parse_map(file_path)\n",
    "total_rating = calculate_trailhead_ratings(topographic_map)\n",
    "print(f\"Total sum of trailhead ratings: {total_rating}\")\n"
   ]
  }
 ],
 "metadata": {
  "kernelspec": {
   "display_name": ".venv",
   "language": "python",
   "name": "python3"
  },
  "language_info": {
   "codemirror_mode": {
    "name": "ipython",
    "version": 3
   },
   "file_extension": ".py",
   "mimetype": "text/x-python",
   "name": "python",
   "nbconvert_exporter": "python",
   "pygments_lexer": "ipython3",
   "version": "3.13.0"
  }
 },
 "nbformat": 4,
 "nbformat_minor": 2
}
