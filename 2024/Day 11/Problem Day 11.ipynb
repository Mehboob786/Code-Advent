{
 "cells": [
  {
   "cell_type": "markdown",
   "metadata": {},
   "source": [
    "Part 1"
   ]
  },
  {
   "cell_type": "code",
   "execution_count": 2,
   "metadata": {},
   "outputs": [
    {
     "name": "stdout",
     "output_type": "stream",
     "text": [
      "Collecting rich\n",
      "  Downloading rich-13.9.4-py3-none-any.whl.metadata (18 kB)\n",
      "Collecting markdown-it-py>=2.2.0 (from rich)\n",
      "  Downloading markdown_it_py-3.0.0-py3-none-any.whl.metadata (6.9 kB)\n",
      "Requirement already satisfied: pygments<3.0.0,>=2.13.0 in /Users/Shared/Sharedfolder/Code Advent/Code Advent/.venv/lib/python3.13/site-packages (from rich) (2.18.0)\n",
      "Collecting mdurl~=0.1 (from markdown-it-py>=2.2.0->rich)\n",
      "  Downloading mdurl-0.1.2-py3-none-any.whl.metadata (1.6 kB)\n",
      "Downloading rich-13.9.4-py3-none-any.whl (242 kB)\n",
      "Downloading markdown_it_py-3.0.0-py3-none-any.whl (87 kB)\n",
      "Downloading mdurl-0.1.2-py3-none-any.whl (10.0 kB)\n",
      "Installing collected packages: mdurl, markdown-it-py, rich\n",
      "Successfully installed markdown-it-py-3.0.0 mdurl-0.1.2 rich-13.9.4\n",
      "Note: you may need to restart the kernel to use updated packages.\n"
     ]
    }
   ],
   "source": [
    "%pip install rich\n"
   ]
  },
  {
   "cell_type": "code",
   "execution_count": null,
   "metadata": {},
   "outputs": [],
   "source": []
  },
  {
   "cell_type": "code",
   "execution_count": 1,
   "metadata": {},
   "outputs": [
    {
     "data": {
      "text/html": [
       "<pre style=\"white-space:pre;overflow-x:auto;line-height:normal;font-family:Menlo,'DejaVu Sans Mono',consolas,'Courier New',monospace\">Part One: <span style=\"color: #008080; text-decoration-color: #008080; font-weight: bold\">189167</span>\n",
       "</pre>\n"
      ],
      "text/plain": [
       "Part One: \u001b[1;36m189167\u001b[0m\n"
      ]
     },
     "metadata": {},
     "output_type": "display_data"
    },
    {
     "data": {
      "text/html": [
       "<pre style=\"white-space:pre;overflow-x:auto;line-height:normal;font-family:Menlo,'DejaVu Sans Mono',consolas,'Courier New',monospace\">Part Two: <span style=\"color: #008080; text-decoration-color: #008080; font-weight: bold\">225253278506288</span>\n",
       "</pre>\n"
      ],
      "text/plain": [
       "Part Two: \u001b[1;36m225253278506288\u001b[0m\n"
      ]
     },
     "metadata": {},
     "output_type": "display_data"
    }
   ],
   "source": [
    "import functools\n",
    "from math import log10\n",
    "from rich import print\n",
    "\n",
    "day = \"11\"\n",
    "\n",
    "# Memoized recursive function to compute the number of stones after 'generations' blinks\n",
    "@functools.cache\n",
    "def num_stones(stone, generations):\n",
    "    if generations == 0:\n",
    "        return 1\n",
    "    if stone == 0:\n",
    "        return num_stones(1, generations - 1)\n",
    "    \n",
    "    num_digits = int(log10(stone)) + 1\n",
    "    \n",
    "    # Rule 1: If the stone has an even number of digits, split it\n",
    "    if num_digits % 2 == 0:\n",
    "        # Split into left and right halves\n",
    "        half_length = num_digits // 2\n",
    "        left = stone // (10 ** half_length)\n",
    "        right = stone % (10 ** half_length)\n",
    "        return num_stones(left, generations - 1) + num_stones(right, generations - 1)\n",
    "    \n",
    "    # Rule 2: If the stone has an odd number of digits, multiply by 2024\n",
    "    else:\n",
    "        return num_stones(stone * 2024, generations - 1)\n",
    "\n",
    "# Assuming tokenedlines is a function to split the input data\n",
    "def tokenedlines(day):\n",
    "    # Simulate the behavior of `tokenedlines` which should read and split the input for Day 11\n",
    "    with open('input.txt', 'r') as file:\n",
    "        return [line.split() for line in file.readlines()]\n",
    "\n",
    "# Read the input data\n",
    "stones = tokenedlines(day)[0]\n",
    "\n",
    "# Compute and print the results for 25 and 75 blinks\n",
    "print(f\"Part One: {sum([num_stones(int(stone), 25) for stone in stones])}\")  # Part A: After 25 blinks\n",
    "print(f\"Part Two: {sum([num_stones(int(stone), 75) for stone in stones])}\")  # Part B: After 75 blinks"
   ]
  },
  {
   "cell_type": "markdown",
   "metadata": {},
   "source": [
    "Part 2\n"
   ]
  },
  {
   "cell_type": "code",
   "execution_count": null,
   "metadata": {},
   "outputs": [],
   "source": []
  }
 ],
 "metadata": {
  "kernelspec": {
   "display_name": ".venv",
   "language": "python",
   "name": "python3"
  },
  "language_info": {
   "codemirror_mode": {
    "name": "ipython",
    "version": 3
   },
   "file_extension": ".py",
   "mimetype": "text/x-python",
   "name": "python",
   "nbconvert_exporter": "python",
   "pygments_lexer": "ipython3",
   "version": "3.13.0"
  }
 },
 "nbformat": 4,
 "nbformat_minor": 2
}
