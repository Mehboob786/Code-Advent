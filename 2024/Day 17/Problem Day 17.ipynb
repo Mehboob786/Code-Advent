{
 "cells": [
  {
   "cell_type": "markdown",
   "metadata": {},
   "source": [
    "Part 1"
   ]
  },
  {
   "cell_type": "code",
   "execution_count": 1,
   "metadata": {},
   "outputs": [
    {
     "name": "stdout",
     "output_type": "stream",
     "text": [
      "Output: 1,2,3,1,3,2,5,3,1\n"
     ]
    }
   ],
   "source": [
    "def run_program(program, reg_a, reg_b, reg_c):\n",
    "    # Registers A, B, C\n",
    "    registers = {'A': reg_a, 'B': reg_b, 'C': reg_c}\n",
    "    instruction_pointer = 0\n",
    "    output = []\n",
    "\n",
    "    # Resolve combo operand\n",
    "    def resolve_combo_operand(operand):\n",
    "        if operand in [0, 1, 2, 3]:\n",
    "            return operand  # literal values\n",
    "        elif operand == 4:\n",
    "            return registers['A']\n",
    "        elif operand == 5:\n",
    "            return registers['B']\n",
    "        elif operand == 6:\n",
    "            return registers['C']\n",
    "        else:\n",
    "            raise ValueError(\"Invalid combo operand: 7 encountered\")\n",
    "\n",
    "    # Program Execution Loop\n",
    "    while instruction_pointer < len(program):\n",
    "        opcode = program[instruction_pointer]\n",
    "        operand = program[instruction_pointer + 1]\n",
    "        instruction_pointer += 2  # By default, move to next instruction\n",
    "\n",
    "        if opcode == 0:  # adv - A = A // (2 ** resolve_combo_operand(operand))\n",
    "            denominator = 2 ** resolve_combo_operand(operand)\n",
    "            registers['A'] //= denominator\n",
    "        elif opcode == 1:  # bxl - B = B ^ operand\n",
    "            registers['B'] ^= operand\n",
    "        elif opcode == 2:  # bst - B = resolve_combo_operand(operand) % 8\n",
    "            registers['B'] = resolve_combo_operand(operand) % 8\n",
    "        elif opcode == 3:  # jnz - Jump if A != 0\n",
    "            if registers['A'] != 0:\n",
    "                instruction_pointer = operand\n",
    "        elif opcode == 4:  # bxc - B = B ^ C (operand ignored)\n",
    "            registers['B'] ^= registers['C']\n",
    "        elif opcode == 5:  # out - Output resolve_combo_operand(operand) % 8\n",
    "            output.append(resolve_combo_operand(operand) % 8)\n",
    "        elif opcode == 6:  # bdv - B = A // (2 ** resolve_combo_operand(operand))\n",
    "            denominator = 2 ** resolve_combo_operand(operand)\n",
    "            registers['B'] = registers['A'] // denominator\n",
    "        elif opcode == 7:  # cdv - C = A // (2 ** resolve_combo_operand(operand))\n",
    "            denominator = 2 ** resolve_combo_operand(operand)\n",
    "            registers['C'] = registers['A'] // denominator\n",
    "        else:\n",
    "            raise ValueError(f\"Unknown opcode: {opcode}\")\n",
    "\n",
    "    return \",\".join(map(str, output))\n",
    "\n",
    "\n",
    "if __name__ == \"__main__\":\n",
    "    # Read input from file\n",
    "    with open(\"input.txt\", \"r\") as file:\n",
    "        lines = [line.strip() for line in file]\n",
    "\n",
    "    # Parse initial register values\n",
    "    reg_a = int(lines[0].split(\":\")[1].strip())\n",
    "    reg_b = int(lines[1].split(\":\")[1].strip())\n",
    "    reg_c = int(lines[2].split(\":\")[1].strip())\n",
    "\n",
    "    # Parse the program (list of integers)\n",
    "    program = list(map(int, lines[4].split(\":\")[1].strip().split(\",\")))\n",
    "\n",
    "    # Run the program and collect the output\n",
    "    result = run_program(program, reg_a, reg_b, reg_c)\n",
    "    print(\"Output:\", result)"
   ]
  },
  {
   "cell_type": "markdown",
   "metadata": {},
   "source": [
    "Part 2\n"
   ]
  },
  {
   "cell_type": "code",
   "execution_count": 5,
   "metadata": {},
   "outputs": [
    {
     "name": "stdout",
     "output_type": "stream",
     "text": [
      "Requirement already satisfied: numpy in /Users/Shared/Sharedfolder/Code Advent/Code Advent/.venv/lib/python3.13/site-packages (2.2.0)\n",
      "Note: you may need to restart the kernel to use updated packages.\n"
     ]
    }
   ],
   "source": [
    "%pip install numpy"
   ]
  },
  {
   "cell_type": "code",
   "execution_count": 2,
   "metadata": {},
   "outputs": [
    {
     "name": "stdout",
     "output_type": "stream",
     "text": [
      "Output:,1,2,3,1,3,2,5,3,1\n",
      "Result: 105706277661082\n"
     ]
    }
   ],
   "source": [
    "import re\n",
    "from collections import *\n",
    "import numpy as np\n",
    "\n",
    "# Directly using the given input values\n",
    "a = 34615120  # Register A\n",
    "b = 0         # Register B\n",
    "c = 0         # Register C\n",
    "prog = [2,4,1,5,7,5,1,6,0,3,4,3,5,5,3,0]  # Program sequence\n",
    "\n",
    "# Function to handle the program logic\n",
    "def run(prog, a, b, c):\n",
    "    def combo(num):\n",
    "        if num <= 3:\n",
    "            return num\n",
    "        elif num == 4:\n",
    "            return a\n",
    "        elif num == 5:\n",
    "            return b\n",
    "        elif num == 6:\n",
    "            return c\n",
    "\n",
    "    o = []\n",
    "    ip = 0\n",
    "    while ip < len(prog):\n",
    "        instr = prog[ip]\n",
    "        operand = prog[ip + 1]\n",
    "        if instr == 0:\n",
    "            a = a // (2 ** combo(operand))\n",
    "        elif instr == 1:\n",
    "            b = b ^ operand\n",
    "        elif instr == 2:\n",
    "            b = combo(operand) % 8\n",
    "        elif instr == 3:\n",
    "            if a != 0:\n",
    "                ip = operand - 2\n",
    "        elif instr == 4:\n",
    "            b = b ^ c\n",
    "        elif instr == 5:\n",
    "            o.append(combo(operand) % 8)\n",
    "        elif instr == 6:\n",
    "            b = a // (2 ** combo(operand))\n",
    "        elif instr == 7:\n",
    "            c = a // (2 ** combo(operand))\n",
    "        ip += 2\n",
    "    return o\n",
    "\n",
    "# Run the program and print the output\n",
    "print(\"Output:\", *run(prog, a, b, c), sep=\",\")\n",
    "\n",
    "# Recursive function to find a solution\n",
    "def rec(n, a):\n",
    "    if n == -1:\n",
    "        return a\n",
    "    a <<= 3\n",
    "    for x in range(8):\n",
    "        if run(prog, a + x, 0, 0) == prog[n:]:\n",
    "            s = rec(n - 1, a + x)\n",
    "            if s != -1:\n",
    "                return s\n",
    "    return -1\n",
    "\n",
    "# Print the result of the recursive function\n",
    "print(\"Result:\", rec(len(prog) - 1, 0))\n"
   ]
  }
 ],
 "metadata": {
  "kernelspec": {
   "display_name": ".venv",
   "language": "python",
   "name": "python3"
  },
  "language_info": {
   "codemirror_mode": {
    "name": "ipython",
    "version": 3
   },
   "file_extension": ".py",
   "mimetype": "text/x-python",
   "name": "python",
   "nbconvert_exporter": "python",
   "pygments_lexer": "ipython3",
   "version": "3.13.0"
  }
 },
 "nbformat": 4,
 "nbformat_minor": 2
}
