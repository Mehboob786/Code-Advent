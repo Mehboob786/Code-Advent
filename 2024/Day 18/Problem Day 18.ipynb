{
 "cells": [
  {
   "cell_type": "markdown",
   "metadata": {},
   "source": [
    "Part 1"
   ]
  },
  {
   "cell_type": "code",
   "execution_count": null,
   "metadata": {},
   "outputs": [],
   "source": [
    "%pip install numpy"
   ]
  },
  {
   "cell_type": "code",
   "execution_count": 3,
   "metadata": {},
   "outputs": [
    {
     "name": "stdout",
     "output_type": "stream",
     "text": [
      "The minimum number of steps needed to reach the exit is: 276\n"
     ]
    }
   ],
   "source": [
    "import numpy as np\n",
    "from collections import deque\n",
    "\n",
    "# Define the grid size (70x70)\n",
    "GRID_SIZE = 71\n",
    "\n",
    "# Read input from \"input.txt\"\n",
    "def read_input(file_path):\n",
    "    with open(file_path, 'r') as file:\n",
    "        lines = file.readlines()\n",
    "    positions = [tuple(map(int, line.strip().split(','))) for line in lines]\n",
    "    return positions\n",
    "\n",
    "# Update grid with falling bytes\n",
    "def update_grid(grid, positions):\n",
    "    for x, y in positions:\n",
    "        if 0 <= x < GRID_SIZE and 0 <= y < GRID_SIZE:\n",
    "            grid[y, x] = 1  # Mark the position as corrupted\n",
    "\n",
    "def bfs_shortest_path(grid):\n",
    "    # Directions: right, down, left, up\n",
    "    directions = [(0, 1), (1, 0), (0, -1), (-1, 0)]\n",
    "    start = (0, 0)\n",
    "    end = (GRID_SIZE - 1, GRID_SIZE - 1)\n",
    "\n",
    "    # Check if start or end is corrupted\n",
    "    if grid[start[1], start[0]] == 1 or grid[end[1], end[0]] == 1:\n",
    "        return -1\n",
    "\n",
    "    # BFS setup\n",
    "    queue = deque([(start, 0)])  # (current position, steps)\n",
    "    visited = set()\n",
    "    visited.add(start)\n",
    "\n",
    "    while queue:\n",
    "        (x, y), steps = queue.popleft()\n",
    "\n",
    "        if (x, y) == end:\n",
    "            return steps\n",
    "\n",
    "        for dx, dy in directions:\n",
    "            nx, ny = x + dx, y + dy\n",
    "\n",
    "            if 0 <= nx < GRID_SIZE and 0 <= ny < GRID_SIZE and grid[ny, nx] == 0 and (nx, ny) not in visited:\n",
    "                visited.add((nx, ny))\n",
    "                queue.append(((nx, ny), steps + 1))\n",
    "\n",
    "    return -1  # If no path is found\n",
    "\n",
    "# Main function\n",
    "def main():\n",
    "    input_file = \"input.txt\"\n",
    "    positions = read_input(input_file)\n",
    "\n",
    "    # Initialize the grid\n",
    "    grid = np.zeros((GRID_SIZE, GRID_SIZE), dtype=int)\n",
    "\n",
    "    # Simulate the first 1024 bytes falling\n",
    "    update_grid(grid, positions[:1024])\n",
    "\n",
    "    # Find the shortest path\n",
    "    result = bfs_shortest_path(grid)\n",
    "\n",
    "    if result != -1:\n",
    "        print(f\"The minimum number of steps needed to reach the exit is: {result}\")\n",
    "    else:\n",
    "        print(\"It is not possible to reach the exit.\")\n",
    "\n",
    "if __name__ == \"__main__\":\n",
    "    main()"
   ]
  },
  {
   "cell_type": "markdown",
   "metadata": {},
   "source": [
    "Part 2\n"
   ]
  },
  {
   "cell_type": "code",
   "execution_count": 4,
   "metadata": {},
   "outputs": [
    {
     "name": "stdout",
     "output_type": "stream",
     "text": [
      "First blocking byte coordinates: 60,37\n"
     ]
    }
   ],
   "source": [
    "import heapq\n",
    "\n",
    "def find_first_blocking_byte(input_file):\n",
    "    # Read coordinates of falling bytes\n",
    "    with open(input_file, 'r') as f:\n",
    "        coordinates = [tuple(map(int, line.strip().split(','))) for line in f]\n",
    "\n",
    "    # Define grid size and movement directions\n",
    "    GRID_SIZE = 70\n",
    "    DIRECTIONS = [(0, 1), (0, -1), (1, 0), (-1, 0)]\n",
    "\n",
    "    # Check if a path exists from start to goal\n",
    "    def is_path_exists(corrupted):\n",
    "        start = (0, 0)\n",
    "        goal = (GRID_SIZE, GRID_SIZE)\n",
    "\n",
    "        visited = set()\n",
    "        queue = [start]\n",
    "        visited.add(start)\n",
    "\n",
    "        while queue:\n",
    "            current = queue.pop(0)\n",
    "\n",
    "            if current == goal:\n",
    "                return True\n",
    "\n",
    "            for dx, dy in DIRECTIONS:\n",
    "                neighbor = (current[0] + dx, current[1] + dy)\n",
    "\n",
    "                # Check if neighbor is valid (within grid and not corrupted)\n",
    "                if (0 <= neighbor[0] <= GRID_SIZE and\n",
    "                    0 <= neighbor[1] <= GRID_SIZE and\n",
    "                    neighbor not in corrupted and\n",
    "                    neighbor not in visited):\n",
    "                    queue.append(neighbor)\n",
    "                    visited.add(neighbor)\n",
    "\n",
    "        return False\n",
    "\n",
    "    # Track corrupted spaces and find first blocking byte\n",
    "    corrupted = set()\n",
    "    for i, coord in enumerate(coordinates):\n",
    "        corrupted.add(coord)\n",
    "\n",
    "        # Check if this coordinate blocks the path\n",
    "        if not is_path_exists(corrupted):\n",
    "            return coord\n",
    "\n",
    "    return None  # No blocking byte found\n",
    "\n",
    "# Read input from file and solve\n",
    "result = find_first_blocking_byte('input.txt')\n",
    "print(f\"First blocking byte coordinates: {result[0]},{result[1]}\")"
   ]
  }
 ],
 "metadata": {
  "kernelspec": {
   "display_name": ".venv",
   "language": "python",
   "name": "python3"
  },
  "language_info": {
   "codemirror_mode": {
    "name": "ipython",
    "version": 3
   },
   "file_extension": ".py",
   "mimetype": "text/x-python",
   "name": "python",
   "nbconvert_exporter": "python",
   "pygments_lexer": "ipython3",
   "version": "3.13.0"
  }
 },
 "nbformat": 4,
 "nbformat_minor": 2
}
