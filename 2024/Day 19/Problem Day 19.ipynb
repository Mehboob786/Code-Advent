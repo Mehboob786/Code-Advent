{
 "cells": [
  {
   "cell_type": "markdown",
   "metadata": {},
   "source": [
    "Part 1"
   ]
  },
  {
   "cell_type": "code",
   "execution_count": null,
   "metadata": {},
   "outputs": [],
   "source": [
    "%pip install numpy"
   ]
  },
  {
   "cell_type": "code",
   "execution_count": 1,
   "metadata": {},
   "outputs": [
    {
     "name": "stdout",
     "output_type": "stream",
     "text": [
      "Number of possible designs: 353\n"
     ]
    }
   ],
   "source": [
    "def count_possible_designs(input_file):\n",
    "    with open(input_file, 'r') as file:\n",
    "        lines = file.read().strip().split('\\n')\n",
    "\n",
    "    # First line contains the available towel patterns\n",
    "    towel_patterns = lines[0].split(', ')\n",
    "    towel_set = set(towel_patterns)\n",
    "\n",
    "    # Remaining lines after the blank line are the desired designs\n",
    "    designs = lines[2:]\n",
    "\n",
    "    def is_design_possible(design):\n",
    "        # Use dynamic programming to check if the design can be formed\n",
    "        dp = [False] * (len(design) + 1)\n",
    "        dp[0] = True  # Base case: empty design is always possible\n",
    "\n",
    "        for i in range(1, len(design) + 1):\n",
    "            for pattern in towel_set:\n",
    "                if dp[i - len(pattern)] and design[i - len(pattern):i] == pattern:\n",
    "                    dp[i] = True\n",
    "                    break\n",
    "        return dp[-1]\n",
    "\n",
    "    # Count possible designs\n",
    "    possible_count = sum(1 for design in designs if is_design_possible(design))\n",
    "    return possible_count\n",
    "\n",
    "# Example usage\n",
    "input_file = 'input.txt'\n",
    "result = count_possible_designs(input_file)\n",
    "print(f\"Number of possible designs: {result}\")"
   ]
  },
  {
   "cell_type": "markdown",
   "metadata": {},
   "source": [
    "Part 2\n"
   ]
  },
  {
   "cell_type": "code",
   "execution_count": 2,
   "metadata": {},
   "outputs": [
    {
     "name": "stdout",
     "output_type": "stream",
     "text": [
      "Total number of ways to arrange the designs: 880877787214477\n"
     ]
    }
   ],
   "source": [
    "def count_towel_arrangements(input_file):\n",
    "    with open(input_file, 'r') as file:\n",
    "        lines = file.read().strip().split('\\n')\n",
    "\n",
    "    # First line contains the available towel patterns\n",
    "    towel_patterns = lines[0].split(', ')\n",
    "    towel_set = set(towel_patterns)\n",
    "\n",
    "    # Remaining lines after the blank line are the desired designs\n",
    "    designs = lines[2:]\n",
    "\n",
    "    def count_ways_to_form_design(design):\n",
    "        # Use dynamic programming to count arrangements\n",
    "        dp = [0] * (len(design) + 1)\n",
    "        dp[0] = 1  # Base case: 1 way to form an empty design\n",
    "\n",
    "        for i in range(1, len(design) + 1):\n",
    "            for pattern in towel_set:\n",
    "                if i >= len(pattern) and design[i - len(pattern):i] == pattern:\n",
    "                    dp[i] += dp[i - len(pattern)]\n",
    "\n",
    "        return dp[-1]\n",
    "\n",
    "    # Sum up the number of arrangements for all designs\n",
    "    total_arrangements = sum(count_ways_to_form_design(design) for design in designs)\n",
    "    return total_arrangements\n",
    "\n",
    "# Example usage\n",
    "input_file = 'input.txt'\n",
    "result = count_towel_arrangements(input_file)\n",
    "print(f\"Total number of ways to arrange the designs: {result}\")\n"
   ]
  }
 ],
 "metadata": {
  "kernelspec": {
   "display_name": ".venv",
   "language": "python",
   "name": "python3"
  },
  "language_info": {
   "codemirror_mode": {
    "name": "ipython",
    "version": 3
   },
   "file_extension": ".py",
   "mimetype": "text/x-python",
   "name": "python",
   "nbconvert_exporter": "python",
   "pygments_lexer": "ipython3",
   "version": "3.13.0"
  }
 },
 "nbformat": 4,
 "nbformat_minor": 2
}
