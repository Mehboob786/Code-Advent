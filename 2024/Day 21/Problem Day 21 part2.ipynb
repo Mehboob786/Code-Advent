{
 "cells": [
  {
   "cell_type": "markdown",
   "metadata": {},
   "source": [
    "Part 1"
   ]
  },
  {
   "cell_type": "code",
   "execution_count": null,
   "metadata": {},
   "outputs": [],
   "source": [
    "from collections import defaultdict\n",
    "import re\n",
    "\n",
    "# Read input from file\n",
    "def read_input(file_path):\n",
    "    with open(file_path, 'r') as file:\n",
    "        return file.read().strip().split('\\n')\n",
    "\n",
    "# Perform logic gate operations\n",
    "def apply_gate(gate, a, b):\n",
    "    if gate == 'AND':\n",
    "        return a & b\n",
    "    elif gate == 'OR':\n",
    "        return a | b\n",
    "    elif gate == 'XOR':\n",
    "        return a ^ b\n",
    "    return None\n",
    "\n",
    "# Simulate the circuit\n",
    "def simulate_circuit(lines):\n",
    "    wire_values = {}\n",
    "    gate_operations = []\n",
    "\n",
    "    # Parse input\n",
    "    for line in lines:\n",
    "        if ':' in line:\n",
    "            wire, value = line.split(': ')\n",
    "            wire_values[wire] = int(value)\n",
    "        else:\n",
    "            gate_operations.append(line)\n",
    "\n",
    "    # Process gates until all outputs are computed\n",
    "    while gate_operations:\n",
    "        remaining_operations = []\n",
    "        for operation in gate_operations:\n",
    "            match = re.match(r'(.+) (AND|OR|XOR) (.+) -> (.+)', operation)\n",
    "            if match:\n",
    "                a, gate, b, output = match.groups()\n",
    "                if a in wire_values and b in wire_values:\n",
    "                    wire_values[output] = apply_gate(gate, wire_values[a], wire_values[b])\n",
    "                else:\n",
    "                    remaining_operations.append(operation)\n",
    "        gate_operations = remaining_operations\n",
    "\n",
    "    # Collect and sort output wires starting with 'z'\n",
    "    output_bits = []\n",
    "    for wire, value in wire_values.items():\n",
    "        if wire.startswith('z'):\n",
    "            output_bits.append((wire, value))\n",
    "\n",
    "    output_bits.sort()  # Sort to ensure correct binary order (z00, z01, ...)\n",
    "\n",
    "    # Construct binary output\n",
    "    binary_result = ''.join(str(bit[1]) for bit in output_bits[::-1])\n",
    "    return int(binary_result, 2)\n",
    "\n",
    "if __name__ == \"__main__\":\n",
    "    input_lines = read_input(\"input.txt\")\n",
    "    result = simulate_circuit(input_lines)\n",
    "    print(\"Output (Decimal):\", result)\n"
   ]
  },
  {
   "cell_type": "markdown",
   "metadata": {},
   "source": [
    "Part 2"
   ]
  },
  {
   "cell_type": "code",
   "execution_count": 1,
   "metadata": {},
   "outputs": [
    {
     "name": "stdout",
     "output_type": "stream",
     "text": [
      "Collecting z3-solver\n",
      "  Downloading z3_solver-4.13.4.0-py3-none-macosx_13_0_x86_64.whl.metadata (601 bytes)\n",
      "Downloading z3_solver-4.13.4.0-py3-none-macosx_13_0_x86_64.whl (39.6 MB)\n",
      "\u001b[2K   \u001b[90m━━━━━━━━━━━━━━━━━━━━━━━━━━━━━━━━━━━━━━━━\u001b[0m \u001b[32m39.6/39.6 MB\u001b[0m \u001b[31m3.4 MB/s\u001b[0m eta \u001b[36m0:00:00\u001b[0m00:01\u001b[0m00:01\u001b[0mm\n",
      "\u001b[?25hInstalling collected packages: z3-solver\n",
      "Successfully installed z3-solver-4.13.4.0\n",
      "Note: you may need to restart the kernel to use updated packages.\n"
     ]
    }
   ],
   "source": [
    "%pip install z3-solver"
   ]
  }
 ],
 "metadata": {
  "kernelspec": {
   "display_name": ".venv",
   "language": "python",
   "name": "python3"
  },
  "language_info": {
   "codemirror_mode": {
    "name": "ipython",
    "version": 3
   },
   "file_extension": ".py",
   "mimetype": "text/x-python",
   "name": "python",
   "nbconvert_exporter": "python",
   "pygments_lexer": "ipython3",
   "version": "3.13.0"
  }
 },
 "nbformat": 4,
 "nbformat_minor": 2
}
