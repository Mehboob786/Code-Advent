{
 "cells": [
  {
   "cell_type": "markdown",
   "metadata": {},
   "source": [
    "Part 1"
   ]
  },
  {
   "cell_type": "code",
   "execution_count": 1,
   "metadata": {},
   "outputs": [
    {
     "name": "stdout",
     "output_type": "stream",
     "text": [
      "Sum of the 2000th secret numbers: 13004408787\n"
     ]
    }
   ],
   "source": [
    "# Define the function to compute the 2000th secret number for a given initial secret\n",
    "def calculate_2000th_secret(initial_secret):\n",
    "    MODULO = 16777216  # Modulo value for pruning\n",
    "    secret = initial_secret\n",
    "\n",
    "    # Generate the sequence up to the 2000th secret number\n",
    "    for _ in range(2000):\n",
    "        secret = (secret ^ (secret * 64)) % MODULO\n",
    "        secret = (secret ^ (secret // 32)) % MODULO\n",
    "        secret = (secret ^ (secret * 2048)) % MODULO\n",
    "\n",
    "    return secret\n",
    "\n",
    "# Main function to process the input file and calculate the result\n",
    "def monkey_market_sum(filename=\"input.txt\"):\n",
    "    with open(filename, \"r\") as file:\n",
    "        initial_secrets = [int(line.strip()) for line in file.readlines()]\n",
    "\n",
    "    # Calculate the sum of the 2000th secret numbers\n",
    "    result_sum = sum(calculate_2000th_secret(secret) for secret in initial_secrets)\n",
    "\n",
    "    return result_sum\n",
    "\n",
    "# Run the program and output the result\n",
    "if __name__ == \"__main__\":\n",
    "    output = monkey_market_sum(\"input.txt\")\n",
    "    print(f\"Sum of the 2000th secret numbers: {output}\")"
   ]
  },
  {
   "cell_type": "markdown",
   "metadata": {},
   "source": [
    "Part 2\n"
   ]
  },
  {
   "cell_type": "code",
   "execution_count": 2,
   "metadata": {},
   "outputs": [
    {
     "name": "stdout",
     "output_type": "stream",
     "text": [
      "Best sequence: [0, 1, -3, 4]\n",
      "Maximum bananas: 1455\n"
     ]
    }
   ],
   "source": [
    "def generate_next_secret(secret_number):\n",
    "    secret_number ^= (secret_number * 64) % 16777216\n",
    "    secret_number %= 16777216\n",
    "    secret_number ^= (secret_number // 32) % 16777216\n",
    "    secret_number %= 16777216\n",
    "    secret_number ^= (secret_number * 2048) % 16777216\n",
    "    secret_number %= 16777216\n",
    "    return secret_number\n",
    "\n",
    "def get_price_sequence(initial_secret):\n",
    "    # Generate all prices at once\n",
    "    prices = []\n",
    "    secret = initial_secret\n",
    "    for _ in range(2001):  # We need 2001 to get 2000 changes\n",
    "        prices.append(secret % 10)\n",
    "        secret = generate_next_secret(secret)\n",
    "    return prices\n",
    "\n",
    "def find_sequences(prices):\n",
    "    # Create a dictionary to store where each sequence appears and its corresponding price\n",
    "    sequences = {}\n",
    "    changes = []\n",
    "\n",
    "    # Calculate all changes\n",
    "    for i in range(1, len(prices)):\n",
    "        changes.append(prices[i] - prices[i-1])\n",
    "\n",
    "    # For each position, record the 4-change sequence that starts there\n",
    "    for i in range(len(changes) - 3):\n",
    "        seq = tuple(changes[i:i+4])  # Convert to tuple so it can be used as dict key\n",
    "        if seq not in sequences:  # Only keep the first occurrence\n",
    "            sequences[seq] = prices[i+4]\n",
    "\n",
    "    return sequences\n",
    "\n",
    "def main():\n",
    "    with open(\"input.txt\", \"r\") as file:\n",
    "        initial_secrets = [int(line.strip()) for line in file.readlines()]\n",
    "\n",
    "    # Pre-calculate all sequences for each buyer\n",
    "    buyer_sequences = []\n",
    "    for secret in initial_secrets:\n",
    "        prices = get_price_sequence(secret)\n",
    "        sequences = find_sequences(prices)\n",
    "        buyer_sequences.append(sequences)\n",
    "\n",
    "    # Find the sequence that appears in most buyers with highest total\n",
    "    best_total = 0\n",
    "    best_sequence = None\n",
    "\n",
    "    # Get all unique sequences that appear in any buyer's data\n",
    "    all_sequences = set()\n",
    "    for sequences in buyer_sequences:\n",
    "        all_sequences.update(sequences.keys())\n",
    "\n",
    "    # Check each sequence that actually appears in the data\n",
    "    for seq in all_sequences:\n",
    "        total = sum(sequences.get(seq, 0) for sequences in buyer_sequences)\n",
    "        if total > best_total:\n",
    "            best_total = total\n",
    "            best_sequence = seq\n",
    "\n",
    "    print(f\"Best sequence: {list(best_sequence)}\")\n",
    "    print(f\"Maximum bananas: {best_total}\")\n",
    "\n",
    "if __name__ == \"__main__\":\n",
    "    main()"
   ]
  }
 ],
 "metadata": {
  "kernelspec": {
   "display_name": ".venv",
   "language": "python",
   "name": "python3"
  },
  "language_info": {
   "codemirror_mode": {
    "name": "ipython",
    "version": 3
   },
   "file_extension": ".py",
   "mimetype": "text/x-python",
   "name": "python",
   "nbconvert_exporter": "python",
   "pygments_lexer": "ipython3",
   "version": "3.13.0"
  }
 },
 "nbformat": 4,
 "nbformat_minor": 2
}
