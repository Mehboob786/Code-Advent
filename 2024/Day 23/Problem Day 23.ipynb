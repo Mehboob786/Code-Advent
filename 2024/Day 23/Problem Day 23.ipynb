{
 "cells": [
  {
   "cell_type": "markdown",
   "metadata": {},
   "source": [
    "Part 1"
   ]
  },
  {
   "cell_type": "code",
   "execution_count": 1,
   "metadata": {},
   "outputs": [
    {
     "name": "stdout",
     "output_type": "stream",
     "text": [
      "Number of target triangles: 1476\n"
     ]
    }
   ],
   "source": [
    "# Efficient solution to solve the LAN Party problem\n",
    "from collections import defaultdict\n",
    "\n",
    "def read_input(file_name):\n",
    "    \"\"\"Reads input from the specified file.\"\"\"\n",
    "    with open(file_name, 'r') as file:\n",
    "        connections = [line.strip().split('-') for line in file]\n",
    "    return connections\n",
    "\n",
    "def find_triangles(connections):\n",
    "    \"\"\"Finds all triangles in the graph.\"\"\"\n",
    "    # Build the adjacency list\n",
    "    graph = defaultdict(set)\n",
    "    for a, b in connections:\n",
    "        graph[a].add(b)\n",
    "        graph[b].add(a)\n",
    "\n",
    "    triangles = set()\n",
    "\n",
    "    # Detect triangles\n",
    "    for node in graph:\n",
    "        for neighbor in graph[node]:\n",
    "            # Check intersection of neighbors to find a common third node\n",
    "            common_neighbors = graph[node].intersection(graph[neighbor])\n",
    "            for cn in common_neighbors:\n",
    "                # Sort to ensure uniqueness of triangle representation\n",
    "                triangle = tuple(sorted([node, neighbor, cn]))\n",
    "                triangles.add(triangle)\n",
    "\n",
    "    return triangles\n",
    "\n",
    "def count_target_triangles(triangles):\n",
    "    \"\"\"Counts triangles containing at least one node starting with 't'.\"\"\"\n",
    "    return sum(1 for triangle in triangles if any(node.startswith('t') for node in triangle))\n",
    "\n",
    "def main():\n",
    "    # Input file name\n",
    "    input_file = \"input.txt\"\n",
    "\n",
    "    # Read input connections\n",
    "    connections = read_input(input_file)\n",
    "\n",
    "    # Find all triangles\n",
    "    triangles = find_triangles(connections)\n",
    "\n",
    "    # Count triangles with at least one node starting with 't'\n",
    "    result = count_target_triangles(triangles)\n",
    "\n",
    "    print(f\"Number of target triangles: {result}\")\n",
    "\n",
    "if __name__ == \"__main__\":\n",
    "    main()"
   ]
  },
  {
   "cell_type": "markdown",
   "metadata": {},
   "source": [
    "Part 2\n"
   ]
  },
  {
   "cell_type": "code",
   "execution_count": 2,
   "metadata": {},
   "outputs": [
    {
     "name": "stdout",
     "output_type": "stream",
     "text": [
      "Password to the LAN party: ca,dw,fo,if,ji,kg,ks,oe,ov,sb,ud,vr,xr\n"
     ]
    }
   ],
   "source": [
    "from collections import defaultdict\n",
    "\n",
    "def read_input(file_name):\n",
    "    \"\"\"Reads input from the specified file.\"\"\"\n",
    "    with open(file_name, 'r') as file:\n",
    "        connections = [line.strip().split('-') for line in file]\n",
    "    return connections\n",
    "\n",
    "def bron_kerbosch(graph, r, p, x, cliques):\n",
    "    \"\"\"Bron-Kerbosch algorithm to find maximal cliques.\"\"\"\n",
    "    if not p and not x:\n",
    "        cliques.append(r)\n",
    "        return\n",
    "    for v in list(p):\n",
    "        bron_kerbosch(\n",
    "            graph,\n",
    "            r.union({v}),\n",
    "            p.intersection(graph[v]),\n",
    "            x.intersection(graph[v]),\n",
    "            cliques\n",
    "        )\n",
    "        p.remove(v)\n",
    "        x.add(v)\n",
    "\n",
    "def find_maximal_cliques(graph):\n",
    "    \"\"\"Finds all maximal cliques in the graph.\"\"\"\n",
    "    cliques = []\n",
    "    bron_kerbosch(graph, set(), set(graph.keys()), set(), cliques)\n",
    "    return cliques\n",
    "\n",
    "def find_largest_clique(cliques):\n",
    "    \"\"\"Finds the largest clique among all cliques.\"\"\"\n",
    "    return max(cliques, key=len)\n",
    "\n",
    "def generate_password(clique):\n",
    "    \"\"\"Generates the password from the largest clique.\"\"\"\n",
    "    return \",\".join(sorted(clique))\n",
    "\n",
    "def main():\n",
    "    # Input file name\n",
    "    input_file = \"input.txt\"\n",
    "\n",
    "    # Read input connections\n",
    "    connections = read_input(input_file)\n",
    "\n",
    "    # Build the adjacency list\n",
    "    graph = defaultdict(set)\n",
    "    for a, b in connections:\n",
    "        graph[a].add(b)\n",
    "        graph[b].add(a)\n",
    "\n",
    "    # Find all maximal cliques\n",
    "    cliques = find_maximal_cliques(graph)\n",
    "\n",
    "    # Find the largest clique\n",
    "    largest_clique = find_largest_clique(cliques)\n",
    "\n",
    "    # Generate the password\n",
    "    password = generate_password(largest_clique)\n",
    "    print(f\"Password to the LAN party: {password}\")\n",
    "\n",
    "if __name__ == \"__main__\":\n",
    "    main()\n"
   ]
  }
 ],
 "metadata": {
  "kernelspec": {
   "display_name": ".venv",
   "language": "python",
   "name": "python3"
  },
  "language_info": {
   "codemirror_mode": {
    "name": "ipython",
    "version": 3
   },
   "file_extension": ".py",
   "mimetype": "text/x-python",
   "name": "python",
   "nbconvert_exporter": "python",
   "pygments_lexer": "ipython3",
   "version": "3.13.0"
  }
 },
 "nbformat": 4,
 "nbformat_minor": 2
}
