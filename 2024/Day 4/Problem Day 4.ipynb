{
 "cells": [
  {
   "cell_type": "code",
   "execution_count": 1,
   "metadata": {},
   "outputs": [],
   "source": [
    "def count_xmas_occurrences(grid, word=\"XMAS\"):\n",
    "    rows, cols = len(grid), len(grid[0])\n",
    "    word_len = len(word)\n",
    "    directions = [\n",
    "        (0, 1),   # Right\n",
    "        (0, -1),  # Left\n",
    "        (1, 0),   # Down\n",
    "        (-1, 0),  # Up\n",
    "        (1, 1),   # Down-Right\n",
    "        (-1, -1), # Up-Left\n",
    "        (1, -1),  # Down-Left\n",
    "        (-1, 1)   # Up-Right\n",
    "    ]\n",
    "    count = 0\n",
    "\n",
    "    # Function to check if a word exists in a specific direction\n",
    "    def search_direction(r, c, dr, dc):\n",
    "        for i in range(word_len):\n",
    "            nr, nc = r + i * dr, c + i * dc\n",
    "            if nr < 0 or nr >= rows or nc < 0 or nc >= cols or grid[nr][nc] != word[i]:\n",
    "                return False\n",
    "        return True\n",
    "\n",
    "    # Traverse each cell in the grid\n",
    "    for r in range(rows):\n",
    "        for c in range(cols):\n",
    "            # Check all directions from the current cell\n",
    "            for dr, dc in directions:\n",
    "                if search_direction(r, c, dr, dc):\n",
    "                    count += 1\n",
    "\n",
    "    return count"
   ]
  },
  {
   "cell_type": "code",
   "execution_count": 3,
   "metadata": {},
   "outputs": [
    {
     "name": "stdout",
     "output_type": "stream",
     "text": [
      "2297\n"
     ]
    }
   ],
   "source": [
    "# Read the input grid from a file\n",
    "with open('input.txt', 'r') as file:\n",
    "    grid = [line.strip() for line in file.readlines()]\n",
    "\n",
    "# Find and print the number of occurrences of \"XMAS\"\n",
    "result = count_xmas_occurrences(grid)\n",
    "print(result)"
   ]
  },
  {
   "cell_type": "markdown",
   "metadata": {},
   "source": [
    "Part 2 "
   ]
  },
  {
   "cell_type": "code",
   "execution_count": 5,
   "metadata": {},
   "outputs": [],
   "source": [
    "def count_x_mas_patterns(grid):\n",
    "    rows, cols = len(grid), len(grid[0])\n",
    "    count = 0\n",
    "\n",
    "    # Helper function to check if a diagonal matches MAS\n",
    "    def check_diagonal(r, c, dr1, dc1, dr2, dc2):\n",
    "        try:\n",
    "            # Check one MAS diagonal (M-S) and the reverse (S-M)\n",
    "            if (grid[r + dr1][c + dc1] == 'M' and\n",
    "                grid[r][c] == 'A' and\n",
    "                grid[r + dr2][c + dc2] == 'S'):\n",
    "                return True\n",
    "            if (grid[r + dr1][c + dc1] == 'S' and\n",
    "                grid[r][c] == 'A' and\n",
    "                grid[r + dr2][c + dc2] == 'M'):\n",
    "                return True\n",
    "        except IndexError:\n",
    "            pass\n",
    "        return False\n",
    "\n",
    "    # Traverse the grid to find the center of the X\n",
    "    for r in range(1, rows - 1):\n",
    "        for c in range(1, cols - 1):\n",
    "            # Check for the center 'A'\n",
    "            if grid[r][c] == 'A':\n",
    "                # Check for the top-left and bottom-right MAS\n",
    "                if (check_diagonal(r, c, -1, -1, 1, 1) and\n",
    "                    check_diagonal(r, c, -1, 1, 1, -1)):\n",
    "                    count += 1\n",
    "\n",
    "    return count\n",
    "     "
   ]
  },
  {
   "cell_type": "code",
   "execution_count": 6,
   "metadata": {},
   "outputs": [
    {
     "name": "stdout",
     "output_type": "stream",
     "text": [
      "1745\n"
     ]
    }
   ],
   "source": [
    "# Read the input grid from a file\n",
    "with open('input.txt', 'r') as file:\n",
    "    grid = [line.strip() for line in file.readlines()]\n",
    "\n",
    "# Find and print the number of X-MAS patterns\n",
    "result = count_x_mas_patterns(grid)\n",
    "print(result)"
   ]
  }
 ],
 "metadata": {
  "kernelspec": {
   "display_name": ".venv",
   "language": "python",
   "name": "python3"
  },
  "language_info": {
   "codemirror_mode": {
    "name": "ipython",
    "version": 3
   },
   "file_extension": ".py",
   "mimetype": "text/x-python",
   "name": "python",
   "nbconvert_exporter": "python",
   "pygments_lexer": "ipython3",
   "version": "3.13.0"
  }
 },
 "nbformat": 4,
 "nbformat_minor": 2
}
