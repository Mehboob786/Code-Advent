{
 "cells": [
  {
   "cell_type": "code",
   "execution_count": 19,
   "metadata": {},
   "outputs": [
    {
     "name": "stdout",
     "output_type": "stream",
     "text": [
      "Sum of middle pages: 4959\n"
     ]
    }
   ],
   "source": [
    "def parse_input(file_path):\n",
    "    \"\"\"Parse the input file to extract ordering rules and updates.\"\"\"\n",
    "    with open(file_path, 'r') as file:\n",
    "        content = file.read()\n",
    "\n",
    "    # Split into rules and updates sections\n",
    "    rules_section, updates_section = content.strip().split('\\n\\n')\n",
    "\n",
    "    # Parse rules and updates\n",
    "    rules = [tuple(map(int, line.split('|'))) for line in rules_section.splitlines()]\n",
    "    updates = [list(map(int, line.split(','))) for line in updates_section.splitlines()]\n",
    "\n",
    "    return rules, updates\n",
    "\n",
    "def is_update_valid(update, rules):\n",
    "    \"\"\"Check if an update follows the given rules.\"\"\"\n",
    "    for x, y in rules:\n",
    "        if x in update and y in update:\n",
    "            if update.index(x) > update.index(y):\n",
    "                return False\n",
    "    return True\n",
    "\n",
    "def sum_middle_pages(file_path):\n",
    "    \"\"\"Determine the sum of middle pages for correctly ordered updates.\"\"\"\n",
    "    # Parse input\n",
    "    rules, updates = parse_input(file_path)\n",
    "\n",
    "    total = 0\n",
    "\n",
    "    for pages in updates:\n",
    "        if is_update_valid(pages, rules):\n",
    "            # Find the middle page\n",
    "            middle_page = pages[len(pages) // 2]\n",
    "            total += middle_page\n",
    "\n",
    "    return total\n",
    "# File path  ( set according to your path )\n",
    "\n",
    "file_path = 'input.txt'\n",
    "\n",
    "# Calculate the sum of middle pages\n",
    "result = sum_middle_pages(file_path)\n",
    "print(\"Sum of middle pages:\", result)"
   ]
  },
  {
   "cell_type": "code",
   "execution_count": 18,
   "metadata": {},
   "outputs": [
    {
     "name": "stdout",
     "output_type": "stream",
     "text": [
      "Sum of middle pages after fixing: 4655\n"
     ]
    }
   ],
   "source": [
    "def fix_update_order(update, rules):\n",
    "  \"\"\"\n",
    "  Reorder the pages in an update based on the given rules.\n",
    "\n",
    "  Args:\n",
    "      update: A list of page numbers representing an update.\n",
    "      rules: A list of tuples representing ordering rules (x|y).\n",
    "\n",
    "  Returns:\n",
    "      A new list with the pages in the correct order.\n",
    "  \"\"\"\n",
    "  # Create a dependency dictionary to track relationships between pages\n",
    "  dependencies = {}\n",
    "  for page in update:\n",
    "    dependencies[page] = set()\n",
    "  for x, y in rules:\n",
    "    if x in update and y in update:\n",
    "      dependencies[x].add(y)\n",
    "\n",
    "  # Perform topological sort to find a valid order\n",
    "  ordered_pages = []\n",
    "  while dependencies:\n",
    "    # Find a page with no incoming dependencies\n",
    "    no_incoming = [page for page, deps in dependencies.items() if not deps]\n",
    "    if not no_incoming:\n",
    "      raise ValueError(\"Update cannot be ordered due to circular dependencies\")\n",
    "    page = no_incoming[0]\n",
    "\n",
    "    # Add the page to the order and remove its outgoing dependencies\n",
    "    ordered_pages.append(page)\n",
    "    del dependencies[page]\n",
    "    for dependent in dependencies:\n",
    "      dependencies[dependent].discard(page)\n",
    "\n",
    "  return ordered_pages\n",
    "\n",
    "def sum_middle_pages_fixed(file_path):\n",
    "  \"\"\"Determine the sum of middle pages for correctly ordered updates after fixing.\"\"\"\n",
    "  # Parse input\n",
    "  rules, updates = parse_input(file_path)\n",
    "\n",
    "  total = 0\n",
    "\n",
    "  for pages in updates:\n",
    "    # Check if update needs fixing\n",
    "    if not is_update_valid(pages, rules):\n",
    "      # Fix the update order\n",
    "      fixed_pages = fix_update_order(pages.copy(), rules)\n",
    "\n",
    "      # Find the middle page of the fixed order\n",
    "      middle_page = fixed_pages[len(fixed_pages) // 2]\n",
    "      total += middle_page\n",
    "\n",
    "  return total\n",
    "\n",
    "# File path  ( set according to your path )\n",
    "file_path = 'input.txt'\n",
    "\n",
    "# Calculate the sum of middle pages after fixing incorrect orders\n",
    "result = sum_middle_pages_fixed(file_path)\n",
    "print(\"Sum of middle pages after fixing:\", result)"
   ]
  }
 ],
 "metadata": {
  "kernelspec": {
   "display_name": ".venv",
   "language": "python",
   "name": "python3"
  },
  "language_info": {
   "codemirror_mode": {
    "name": "ipython",
    "version": 3
   },
   "file_extension": ".py",
   "mimetype": "text/x-python",
   "name": "python",
   "nbconvert_exporter": "python",
   "pygments_lexer": "ipython3",
   "version": "3.13.0"
  }
 },
 "nbformat": 4,
 "nbformat_minor": 2
}
