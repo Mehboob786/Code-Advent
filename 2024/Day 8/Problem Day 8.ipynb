{
 "cells": [
  {
   "cell_type": "code",
   "execution_count": 3,
   "metadata": {},
   "outputs": [
    {
     "name": "stdout",
     "output_type": "stream",
     "text": [
      "Number of unique antinode locations: 364\n"
     ]
    }
   ],
   "source": [
    "\n",
    "\n",
    "def find_unique_antinodes_from_file(file_path):\n",
    "    from collections import defaultdict\n",
    "\n",
    "    # Step 1: Read the input file and parse the grid\n",
    "    with open(file_path, 'r') as file:\n",
    "        grid = [line.strip() for line in file.readlines()]\n",
    "\n",
    "    # Parse grid to collect antenna positions by frequency\n",
    "    antenna_positions = defaultdict(list)\n",
    "    rows = len(grid)\n",
    "    cols = len(grid[0])\n",
    "\n",
    "    for r in range(rows):\n",
    "        for c in range(cols):\n",
    "            char = grid[r][c]\n",
    "            if char.isalnum():  # Antennas are letters or digits\n",
    "                antenna_positions[char].append((r, c))\n",
    "\n",
    "    # Step 2: Find antinodes for each frequency\n",
    "    unique_antinodes = set()\n",
    "\n",
    "    for freq, positions in antenna_positions.items():\n",
    "        n = len(positions)\n",
    "        if n < 2:\n",
    "            continue  # No antinodes possible with fewer than 2 antennas\n",
    "\n",
    "        for i in range(n):\n",
    "            for j in range(i + 1, n):\n",
    "                r1, c1 = positions[i]\n",
    "                r2, c2 = positions[j]\n",
    "\n",
    "                # Compute differences\n",
    "                dr = r2 - r1\n",
    "                dc = c2 - c1\n",
    "\n",
    "                # First antinode (closer to r1, c1)\n",
    "                r_antin1, c_antin1 = r1 - dr, c1 - dc\n",
    "                # Second antinode (further from r2, c2)\n",
    "                r_antin2, c_antin2 = r2 + dr, c2 + dc\n",
    "\n",
    "                # Add valid antinodes within bounds\n",
    "                if 0 <= r_antin1 < rows and 0 <= c_antin1 < cols:\n",
    "                    unique_antinodes.add((r_antin1, c_antin1))\n",
    "                if 0 <= r_antin2 < rows and 0 <= c_antin2 < cols:\n",
    "                    unique_antinodes.add((r_antin2, c_antin2))\n",
    "\n",
    "    # Step 3: Return the count of unique antinodes\n",
    "    return len(unique_antinodes)\n",
    "\n",
    "# Path to the input file\n",
    "file_path = 'input.txt'\n",
    "\n",
    "# Call the function and print the result\n",
    "unique_count = find_unique_antinodes_from_file(file_path)\n",
    "\n",
    "print(f\"Number of unique antinode locations: {unique_count}\")"
   ]
  },
  {
   "cell_type": "markdown",
   "metadata": {},
   "source": [
    "Part 2\n"
   ]
  },
  {
   "cell_type": "code",
   "execution_count": 5,
   "metadata": {},
   "outputs": [
    {
     "name": "stdout",
     "output_type": "stream",
     "text": [
      "Number of unique antinode locations: 1231\n"
     ]
    }
   ],
   "source": [
    "def find_all_antinodes(file_path):\n",
    "    from collections import defaultdict\n",
    "\n",
    "    # Step 1: Read the input file and parse the grid\n",
    "    with open(file_path, 'r') as file:\n",
    "        grid = [line.strip() for line in file.readlines()]\n",
    "\n",
    "    # Parse grid to collect antenna positions by frequency\n",
    "    antenna_positions = defaultdict(list)\n",
    "    rows = len(grid)\n",
    "    cols = len(grid[0])\n",
    "\n",
    "    for r in range(rows):\n",
    "        for c in range(cols):\n",
    "            char = grid[r][c]\n",
    "            if char.isalnum():  # Antennas are letters or digits\n",
    "                antenna_positions[char].append((r, c))\n",
    "\n",
    "    # Step 2: Find all antinodes for each frequency\n",
    "    unique_antinodes = set()\n",
    "\n",
    "    for freq, positions in antenna_positions.items():\n",
    "        n = len(positions)\n",
    "        if n < 2:\n",
    "            continue  # No antinodes possible with fewer than 2 antennas\n",
    "\n",
    "        # Add all antenna positions as antinodes\n",
    "        unique_antinodes.update(positions)\n",
    "\n",
    "        for i in range(n):\n",
    "            for j in range(i + 1, n):\n",
    "                r1, c1 = positions[i]\n",
    "                r2, c2 = positions[j]\n",
    "\n",
    "                # Compute direction vector\n",
    "                dr = r2 - r1\n",
    "                dc = c2 - c1\n",
    "\n",
    "                # Generate all points along the line\n",
    "                for k in range(-max(rows, cols), max(rows, cols) + 1):\n",
    "                    r_antin = r1 + k * dr\n",
    "                    c_antin = c1 + k * dc\n",
    "\n",
    "                    # Add valid antinodes within bounds\n",
    "                    if 0 <= r_antin < rows and 0 <= c_antin < cols:\n",
    "                        unique_antinodes.add((r_antin, c_antin))\n",
    "\n",
    "    # Step 3: Return the count of unique antinodes\n",
    "    return len(unique_antinodes)\n",
    "\n",
    "# Path to the input file\n",
    "file_path = 'input.txt'\n",
    "\n",
    "# Call the function and print the result\n",
    "unique_count = find_all_antinodes(file_path)\n",
    "print(f\"Number of unique antinode locations: {unique_count}\")\n",
    "     "
   ]
  },
  {
   "cell_type": "code",
   "execution_count": null,
   "metadata": {},
   "outputs": [],
   "source": []
  }
 ],
 "metadata": {
  "kernelspec": {
   "display_name": ".venv",
   "language": "python",
   "name": "python3"
  },
  "language_info": {
   "codemirror_mode": {
    "name": "ipython",
    "version": 3
   },
   "file_extension": ".py",
   "mimetype": "text/x-python",
   "name": "python",
   "nbconvert_exporter": "python",
   "pygments_lexer": "ipython3",
   "version": "3.13.0"
  }
 },
 "nbformat": 4,
 "nbformat_minor": 2
}
