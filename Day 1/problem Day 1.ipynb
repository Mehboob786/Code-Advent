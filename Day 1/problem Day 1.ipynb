{
 "cells": [
  {
   "cell_type": "markdown",
   "metadata": {},
   "source": [
    "Part 1"
   ]
  },
  {
   "cell_type": "code",
   "execution_count": 1,
   "metadata": {},
   "outputs": [
    {
     "name": "stdout",
     "output_type": "stream",
     "text": [
      "Total distance between the lists: 2000468\n"
     ]
    }
   ],
   "source": [
    "def calculate_total_distance_from_file(filename):\n",
    "    left_list = []\n",
    "    right_list = []\n",
    "    \n",
    "    # Read the input file and populate the lists\n",
    "    with open(filename, 'r') as file:\n",
    "        for line in file:\n",
    "            left, right = map(int, line.split())\n",
    "            left_list.append(left)\n",
    "            right_list.append(right)\n",
    "    \n",
    "    # Sort the lists\n",
    "    left_list.sort()\n",
    "    right_list.sort()\n",
    "    \n",
    "    # Calculate the total distance\n",
    "    total_distance = sum(abs(l - r) for l, r in zip(left_list, right_list))\n",
    "    \n",
    "    return total_distance\n",
    "\n",
    "# Replace 'input.txt' with the name of your input file\n",
    "filename = 'input.txt'\n",
    "total_distance = calculate_total_distance_from_file(filename)\n",
    "print(f\"Total distance between the lists: {total_distance}\")"
   ]
  },
  {
   "cell_type": "markdown",
   "metadata": {},
   "source": [
    "Part 2"
   ]
  },
  {
   "cell_type": "code",
   "execution_count": 2,
   "metadata": {},
   "outputs": [
    {
     "name": "stdout",
     "output_type": "stream",
     "text": [
      "Similarity score: 18567089\n"
     ]
    }
   ],
   "source": [
    "from collections import Counter\n",
    "\n",
    "def calculate_similarity_score(filename):\n",
    "    left_list = []\n",
    "    right_list = []\n",
    "    \n",
    "    # Read the input file and populate the lists\n",
    "    with open(filename, 'r') as file:\n",
    "        for line in file:\n",
    "            left, right = map(int, line.split())\n",
    "            left_list.append(left)\n",
    "            right_list.append(right)\n",
    "    \n",
    "    # Count occurrences of each number in the right list\n",
    "    right_count = Counter(right_list)\n",
    "    \n",
    "    # Calculate the similarity score\n",
    "    similarity_score = sum(num * right_count[num] for num in left_list)\n",
    "    \n",
    "    return similarity_score\n",
    "\n",
    "# Replace 'input.txt' with the name of your input file\n",
    "filename = 'input.txt'\n",
    "similarity_score = calculate_similarity_score(filename)\n",
    "print(f\"Similarity score: {similarity_score}\")"
   ]
  }
 ],
 "metadata": {
  "kernelspec": {
   "display_name": ".venv",
   "language": "python",
   "name": "python3"
  },
  "language_info": {
   "codemirror_mode": {
    "name": "ipython",
    "version": 3
   },
   "file_extension": ".py",
   "mimetype": "text/x-python",
   "name": "python",
   "nbconvert_exporter": "python",
   "pygments_lexer": "ipython3",
   "version": "3.13.0"
  }
 },
 "nbformat": 4,
 "nbformat_minor": 2
}
