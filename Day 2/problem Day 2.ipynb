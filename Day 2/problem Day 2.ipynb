{
 "cells": [
  {
   "cell_type": "markdown",
   "metadata": {},
   "source": [
    "Part 1"
   ]
  },
  {
   "cell_type": "code",
   "execution_count": 1,
   "metadata": {},
   "outputs": [
    {
     "name": "stdout",
     "output_type": "stream",
     "text": [
      "Number of safe reports: 559\n"
     ]
    }
   ],
   "source": [
    "def is_report_safe(report):\n",
    "    \"\"\"\n",
    "    Determine if a report is safe based on two criteria:\n",
    "    1. Levels are either all increasing or all decreasing\n",
    "    2. Adjacent levels differ by at least 1 and at most 3\n",
    "    \"\"\"\n",
    "    levels = list(map(int, report.split()))\n",
    "    if not levels:\n",
    "        return False\n",
    "    is_increasing = all(levels[i+1] > levels[i] for i in range(len(levels) - 1))\n",
    "    is_decreasing = all(levels[i] > levels[i+1] for i in range(len(levels) - 1))\n",
    "    if not (is_increasing or is_decreasing):\n",
    "        return False\n",
    "    for i in range(len(levels) - 1):\n",
    "        diff = abs(levels[i+1] - levels[i])\n",
    "        if diff < 1 or diff > 3:\n",
    "            return False\n",
    "    return True\n",
    "\n",
    "def analyze_safety_reports(input_data):\n",
    "    \"\"\"\n",
    "    Analyze the safety of all reports in the input data\n",
    "    \"\"\"\n",
    "    reports = input_data.strip().split('\\n')\n",
    "\n",
    "    safe_reports = sum(1 for report in reports if is_report_safe(report))\n",
    "\n",
    "    return safe_reports\n",
    "try:\n",
    "    with open('input.txt', 'r') as file:\n",
    "        input_data = file.read()\n",
    "    safe_report_count = analyze_safety_reports(input_data)\n",
    "    print(f\"Number of safe reports: {safe_report_count}\")\n",
    "except FileNotFoundError:\n",
    "    print(\"Error: The file 'input.txt' was not found.\")\n",
    "\n"
   ]
  },
  {
   "cell_type": "markdown",
   "metadata": {},
   "source": [
    "Part 2"
   ]
  },
  {
   "cell_type": "code",
   "execution_count": 2,
   "metadata": {},
   "outputs": [
    {
     "name": "stdout",
     "output_type": "stream",
     "text": [
      "Number of safe reports (Part 1): 559\n",
      "Number of safe reports (Part 2): 601\n"
     ]
    }
   ],
   "source": [
    "def is_report_safe(report):\n",
    "    \"\"\"\n",
    "    Check if the report is safe based on the two conditions:\n",
    "    1. The levels are either strictly increasing or strictly decreasing.\n",
    "    2. The difference between adjacent levels is between 1 and 3.\n",
    "    \"\"\"\n",
    "    levels = list(map(int, report.split()))\n",
    "    is_increasing = all(levels[i+1] > levels[i] for i in range(len(levels) - 1))\n",
    "    is_decreasing = all(levels[i] > levels[i+1] for i in range(len(levels) - 1))\n",
    "    if not (is_increasing or is_decreasing):\n",
    "        return False\n",
    "\n",
    "    for i in range(len(levels) - 1):\n",
    "        diff = abs(levels[i+1] - levels[i])\n",
    "        if diff < 1 or diff > 3:\n",
    "            return False\n",
    "\n",
    "    return True\n",
    "\n",
    "def is_report_safe_with_dampener(report):\n",
    "    \"\"\"\n",
    "    Check if the report can be made safe with the Problem Dampener\n",
    "    (by removing at most one level).\n",
    "    \"\"\"\n",
    "    levels = list(map(int, report.split()))\n",
    "    if is_report_safe(report):\n",
    "        return True\n",
    "    for i in range(len(levels)):\n",
    "        modified_report = levels[:i] + levels[i+1:]\n",
    "        if is_report_safe(' '.join(map(str, modified_report))):\n",
    "            return True\n",
    "    return False\n",
    "\n",
    "def analyze_safety_reports(input_data, with_dampener=False):\n",
    "    \"\"\"\n",
    "    Analyze the safety of all reports in the input data.\n",
    "    If with_dampener is True, consider reports that can be made safe by removing one level.\n",
    "    \"\"\"\n",
    "    reports = input_data.strip().split('\\n')\n",
    "    if with_dampener:\n",
    "        safe_reports = sum(1 for report in reports if is_report_safe_with_dampener(report))\n",
    "    else:\n",
    "        safe_reports = sum(1 for report in reports if is_report_safe(report))\n",
    "    return safe_reports\n",
    "try:\n",
    "    with open('input.txt', 'r') as file:\n",
    "        input_data = file.read()\n",
    "    safe_report_count_part1 = analyze_safety_reports(input_data, with_dampener=False)\n",
    "    print(f\"Number of safe reports (Part 1): {safe_report_count_part1}\")\n",
    "    safe_report_count_part2 = analyze_safety_reports(input_data, with_dampener=True)\n",
    "    print(f\"Number of safe reports (Part 2): {safe_report_count_part2}\")\n",
    "except FileNotFoundError:\n",
    "    print(\"Error: The file 'input.txt' was not found.\")"
   ]
  }
 ],
 "metadata": {
  "kernelspec": {
   "display_name": ".venv",
   "language": "python",
   "name": "python3"
  },
  "language_info": {
   "codemirror_mode": {
    "name": "ipython",
    "version": 3
   },
   "file_extension": ".py",
   "mimetype": "text/x-python",
   "name": "python",
   "nbconvert_exporter": "python",
   "pygments_lexer": "ipython3",
   "version": "3.13.0"
  }
 },
 "nbformat": 4,
 "nbformat_minor": 2
}
